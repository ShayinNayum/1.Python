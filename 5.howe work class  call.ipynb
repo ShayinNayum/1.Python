{
 "cells": [
  {
   "cell_type": "code",
   "execution_count": 13,
   "metadata": {},
   "outputs": [],
   "source": [
    "\n",
    "class SubfieldsInAI():\n",
    "    \n",
    "    def subfield():\n",
    "        AI_field=(\"machine learning\",\"Neural Networks\",\"vision,robotics\",\"speach Processing\",\"Natural Language Processing\")\n",
    "\n",
    "        print(\"Sub-fields in AI are:\")\n",
    "        for subfield in AI_field:\n",
    "            print(subfield)"
   ]
  },
  {
   "cell_type": "code",
   "execution_count": 15,
   "metadata": {},
   "outputs": [
    {
     "name": "stdout",
     "output_type": "stream",
     "text": [
      "Sub-fields in AI are:\n",
      "machine learning\n",
      "Neural Networks\n",
      "vision,robotics\n",
      "speach Processing\n",
      "Natural Language Processing\n"
     ]
    }
   ],
   "source": [
    "SubfieldsInAI.subfield()"
   ]
  },
  {
   "cell_type": "code",
   "execution_count": 23,
   "metadata": {},
   "outputs": [],
   "source": [
    "class OddEven():\n",
    "\n",
    "    def OddEven():\n",
    "            num=int(input(\"enter a number:\"))\n",
    "            if(num%2)==0:\n",
    "                meg=print(num,\" is even number\")\n",
    "            else:\n",
    "                meg=print(num,\"is odd number\")\n",
    "                return meg"
   ]
  },
  {
   "cell_type": "code",
   "execution_count": 24,
   "metadata": {},
   "outputs": [
    {
     "name": "stdout",
     "output_type": "stream",
     "text": [
      "enter a number:52452\n",
      "52452  is even number\n"
     ]
    }
   ],
   "source": [
    "OddEven.OddEven()"
   ]
  },
  {
   "cell_type": "code",
   "execution_count": 1,
   "metadata": {},
   "outputs": [],
   "source": [
    "class ElegiblityForMarriage():\n",
    "    \n",
    "    def Elegible():\n",
    "            gender=(input(\"your Gender: \"))\n",
    "            age=int(input(\"your Age:\"))\n",
    "            if(gender==\"Male\"and age>21):\n",
    "                print(\"Eligible\")\n",
    "                Eligible=\"Eligible\"\n",
    "            elif(gender==\"Female\"and age>18):\n",
    "                print(\"Eligible\")\n",
    "                Eligible=\"Eligible\"\n",
    "            else:\n",
    "                print(\"not Eligible\")\n",
    "                Eligible=\"not Eligible\"\n",
    "                return Eligible"
   ]
  },
  {
   "cell_type": "code",
   "execution_count": 3,
   "metadata": {},
   "outputs": [
    {
     "name": "stdout",
     "output_type": "stream",
     "text": [
      "your Gender: Male\n",
      "your Age:20\n",
      "not Eligible\n"
     ]
    },
    {
     "data": {
      "text/plain": [
       "'not Eligible'"
      ]
     },
     "execution_count": 3,
     "metadata": {},
     "output_type": "execute_result"
    }
   ],
   "source": [
    "ElegiblityForMarriage.Elegible()"
   ]
  },
  {
   "cell_type": "code",
   "execution_count": 7,
   "metadata": {},
   "outputs": [],
   "source": [
    "class FindPercent():\n",
    "\n",
    "    def Precentage():\n",
    "\n",
    "        subject1=int(input(\"sunject1= \"))\n",
    "        subject2=int(input(\"sunject2= \"))\n",
    "        subject3=int(input(\"subject3= \"))\n",
    "        subject4=int(input(\"subject4= \"))\n",
    "        subject5=int(input(\"subject5= \"))\n",
    "\n",
    "        total=subject1+subject2+subject3+subject4+subject5\n",
    "        print(\"total\", total)\n",
    "\n",
    "        precentage= (total/500)* 100\n",
    "        print(\"precentage:\", precentage)\n",
    "\n",
    "        return precentage"
   ]
  },
  {
   "cell_type": "code",
   "execution_count": 8,
   "metadata": {},
   "outputs": [
    {
     "name": "stdout",
     "output_type": "stream",
     "text": [
      "sunject1= 98\n",
      "sunject2= 87\n",
      "subject3= 95\n",
      "subject4= 95\n",
      "subject5= 93\n",
      "total 468\n",
      "precentage: 93.60000000000001\n"
     ]
    },
    {
     "data": {
      "text/plain": [
       "93.60000000000001"
      ]
     },
     "execution_count": 8,
     "metadata": {},
     "output_type": "execute_result"
    }
   ],
   "source": [
    "FindPercent.Precentage()"
   ]
  },
  {
   "cell_type": "code",
   "execution_count": 13,
   "metadata": {},
   "outputs": [],
   "source": [
    "class triangle():\n",
    "    \n",
    "    def Triangle():\n",
    "        height=int(input(\"Height:\"))\n",
    "        breadth=int(input(\"Breadth:\"))\n",
    "        Area_formula=(height*breadth)/2\n",
    "        print(\"Area formula : (Height*Breadth)/2\")\n",
    "        print(\"Area of Triangle \",Area_formula)\n",
    "\n",
    "        Height1=int(input(\"Height1 :\"))\n",
    "        Height2=int(input(\"Height2 :\"))\n",
    "        Breadth=int(input(\"Breadth :\"))\n",
    "        Preimeter_formula= Height1+Height2+Breadth\n",
    "        print(\"Preimeterformula= Height1+Height2+Breadth\")\n",
    "        print(\"Preimeter of Triangle\",Preimeter_formula)\n",
    "\n",
    "        return Triangle()"
   ]
  },
  {
   "cell_type": "code",
   "execution_count": null,
   "metadata": {},
   "outputs": [
    {
     "name": "stdout",
     "output_type": "stream",
     "text": [
      "Height:34\n",
      "Breadth:32\n",
      "Area formula : (Height*Breadth)/2\n",
      "Area of Triangle  544.0\n",
      "Height1 :2\n",
      "Height2 :4\n",
      "Breadth :4\n",
      "Preimeterformula= Height1+Height2+Breadth\n",
      "Preimeter of Triangle 10\n"
     ]
    }
   ],
   "source": [
    "triangle.Triangle()"
   ]
  },
  {
   "cell_type": "code",
   "execution_count": null,
   "metadata": {},
   "outputs": [],
   "source": []
  }
 ],
 "metadata": {
  "kernelspec": {
   "display_name": "Python 3",
   "language": "python",
   "name": "python3"
  },
  "language_info": {
   "codemirror_mode": {
    "name": "ipython",
    "version": 3
   },
   "file_extension": ".py",
   "mimetype": "text/x-python",
   "name": "python",
   "nbconvert_exporter": "python",
   "pygments_lexer": "ipython3",
   "version": "3.7.4"
  }
 },
 "nbformat": 4,
 "nbformat_minor": 2
}
